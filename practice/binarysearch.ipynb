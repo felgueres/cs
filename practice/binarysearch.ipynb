{
 "cells": [
  {
   "cell_type": "markdown",
   "id": "b3c88339",
   "metadata": {},
   "source": [
    "## Binary Search (log n)"
   ]
  },
  {
   "cell_type": "markdown",
   "id": "06739683",
   "metadata": {},
   "source": [
    "### intuition"
   ]
  },
  {
   "cell_type": "code",
   "execution_count": 18,
   "id": "6ba16d45",
   "metadata": {},
   "outputs": [],
   "source": [
    "T = [1,2,3,4,5,6,7,8,9,10] # set of numbers T\n",
    "x = 8 # target value x\n",
    "low_i = 0\n",
    "high_i = 9\n",
    "# goal: find index for x if exists"
   ]
  },
  {
   "cell_type": "code",
   "execution_count": 19,
   "id": "f9ccb47f",
   "metadata": {},
   "outputs": [],
   "source": [
    "#split in two\n",
    "mid_i = (low_i+high_i)//2 # 4"
   ]
  },
  {
   "cell_type": "markdown",
   "id": "272a10c7",
   "metadata": {},
   "source": [
    "[[1],2,3,4,5,6,7,8,9,10] : low_i # 0  \n",
    "[1,2,3,4,[5],6,7,8,9,10] : mid_i # 4  \n",
    "[1,2,3,4,5,6,7,8,9,[10]] : high_i # 9  "
   ]
  },
  {
   "cell_type": "code",
   "execution_count": 20,
   "id": "e83e6558",
   "metadata": {},
   "outputs": [
    {
     "data": {
      "text/plain": [
       "False"
      ]
     },
     "execution_count": 20,
     "metadata": {},
     "output_type": "execute_result"
    }
   ],
   "source": [
    "# x lt or gt T[mid_i]\n",
    "x <= T[mid_i]"
   ]
  },
  {
   "cell_type": "code",
   "execution_count": 22,
   "id": "5b17142b",
   "metadata": {},
   "outputs": [],
   "source": [
    "# x not in [low,mid]\n",
    "# update low_i to mid+1, to search [mid+1,high_i]\n",
    "low_i = mid_i + 1"
   ]
  },
  {
   "cell_type": "code",
   "execution_count": 23,
   "id": "b3d98705",
   "metadata": {},
   "outputs": [],
   "source": [
    "mid_i = (low_i + high_i)//2 #7"
   ]
  },
  {
   "cell_type": "markdown",
   "id": "6686b0a1",
   "metadata": {},
   "source": [
    "[1,2,3,4,5,[6],7,8,9,10] : low_i # 5  \n",
    "[1,2,3,4,5,6,7,[8],9,10] : mid_i # 7  \n",
    "[1,2,3,4,5,6,7,8,9,[10]] : high_i # 9  "
   ]
  },
  {
   "cell_type": "code",
   "execution_count": 24,
   "id": "f7a00bc6",
   "metadata": {},
   "outputs": [
    {
     "data": {
      "text/plain": [
       "True"
      ]
     },
     "execution_count": 24,
     "metadata": {},
     "output_type": "execute_result"
    }
   ],
   "source": [
    "x <= T[mid_i]"
   ]
  },
  {
   "cell_type": "code",
   "execution_count": 26,
   "id": "d17c396b",
   "metadata": {},
   "outputs": [],
   "source": [
    "# x in [low_i, mid_i]\n",
    "# update high_i to mid_i [low_i, mid_i]\n",
    "high_i = mid_i"
   ]
  },
  {
   "cell_type": "code",
   "execution_count": 27,
   "id": "bb2bb175",
   "metadata": {},
   "outputs": [],
   "source": [
    "mid_i = (low_i + high_i)//2 # 6"
   ]
  },
  {
   "cell_type": "markdown",
   "id": "a27699ee",
   "metadata": {},
   "source": [
    "[1,2,3,4,5,[6],7,8,9,10] : low_i # 5  \n",
    "[1,2,3,4,5,6,[7],8,9,10] : mid_i # 6  \n",
    "[1,2,3,4,5,6,7,[8],9,10] : high_i # 7  "
   ]
  },
  {
   "cell_type": "code",
   "execution_count": 30,
   "id": "ff03371f",
   "metadata": {},
   "outputs": [
    {
     "data": {
      "text/plain": [
       "False"
      ]
     },
     "execution_count": 30,
     "metadata": {},
     "output_type": "execute_result"
    }
   ],
   "source": [
    "x <= T[mid_i]"
   ]
  },
  {
   "cell_type": "code",
   "execution_count": 31,
   "id": "48a8b97d",
   "metadata": {},
   "outputs": [],
   "source": [
    "# x in [mid_i+1, high_i]\n",
    "# update low_i to mid_1 + 1\n",
    "low_i = mid_i + 1"
   ]
  },
  {
   "cell_type": "code",
   "execution_count": 44,
   "id": "2aca2825",
   "metadata": {},
   "outputs": [],
   "source": [
    "mid_i = (low_i + high_i)//2 # 6"
   ]
  },
  {
   "cell_type": "markdown",
   "id": "2c82b06f",
   "metadata": {},
   "source": [
    "[1,2,3,4,5,6,7,[8],9,10] : low_i # 7  \n",
    "[1,2,3,4,5,6,7,[8],9,10] : mid_i # 7    \n",
    "[1,2,3,4,5,6,7,[8],9,10] : high_i # 7   "
   ]
  },
  {
   "cell_type": "code",
   "execution_count": 45,
   "id": "3927ffd7",
   "metadata": {},
   "outputs": [
    {
     "data": {
      "text/plain": [
       "True"
      ]
     },
     "execution_count": 45,
     "metadata": {},
     "output_type": "execute_result"
    }
   ],
   "source": [
    "x<=T[mid_i]"
   ]
  },
  {
   "cell_type": "code",
   "execution_count": 48,
   "id": "854a76a0",
   "metadata": {},
   "outputs": [],
   "source": [
    "# x in [mid_i+1, high_i]\n",
    "# update low_i to mid_1 + 1\n",
    "low_i = mid_i + 1"
   ]
  },
  {
   "cell_type": "markdown",
   "id": "a2bdeb59",
   "metadata": {},
   "source": [
    "[1,2,3,4,5,6,7,8,[9],10] : low_i # 8  \n",
    "[1,2,3,4,5,6,7,[8],9,10] : high_i # 7\n",
    "\n",
    "This is the base case. \n",
    "\n",
    "low_i can't be greater than high_i. \n",
    "\n",
    "You have either found the number or not.\n",
    "\n",
    "isFound: (T[high_i] == target)  \n",
    "atIndex: high_i"
   ]
  },
  {
   "cell_type": "code",
   "execution_count": 56,
   "id": "05e27b56",
   "metadata": {},
   "outputs": [
    {
     "name": "stdout",
     "output_type": "stream",
     "text": [
      "found at index [7]\n"
     ]
    }
   ],
   "source": [
    "found = x == T[high_i]\n",
    "\n",
    "if found:\n",
    "    print(f'found at index {[high_i]}')\n",
    "else:\n",
    "    print('not found')"
   ]
  },
  {
   "cell_type": "markdown",
   "id": "e6217d91",
   "metadata": {},
   "source": [
    "Observations:\n",
    "- low_i approaches high_i from the index addition of 1, base case is implied using while loop low_i < high_i\n",
    "- space is reduced by half on each search, that's why log n"
   ]
  },
  {
   "cell_type": "markdown",
   "id": "736374de",
   "metadata": {},
   "source": [
    "### formalized"
   ]
  },
  {
   "cell_type": "code",
   "execution_count": 79,
   "id": "55541d1e",
   "metadata": {},
   "outputs": [],
   "source": [
    "def bsearch(X,t):\n",
    "    low = 0\n",
    "    high = len(X)-1\n",
    "    while low < high:\n",
    "        mid = (low+high)//2\n",
    "        print('indeces:',low,mid,high)\n",
    "        print('target:', t)\n",
    "        if t <= X[mid]:\n",
    "            high = mid\n",
    "            print('decrease high index')\n",
    "        else:\n",
    "            low = mid + 1\n",
    "            print('increase low index')\n",
    "        print('\\n')\n",
    "    return X[high] == t, high\n"
   ]
  },
  {
   "cell_type": "code",
   "execution_count": 85,
   "id": "43050698",
   "metadata": {},
   "outputs": [],
   "source": [
    "nums = list(range(1,11,1))"
   ]
  },
  {
   "cell_type": "code",
   "execution_count": 87,
   "id": "6b50d61a",
   "metadata": {},
   "outputs": [
    {
     "name": "stdout",
     "output_type": "stream",
     "text": [
      "indeces: 0 4 9\n",
      "target: 12\n",
      "increase low index\n",
      "\n",
      "\n",
      "indeces: 5 7 9\n",
      "target: 12\n",
      "increase low index\n",
      "\n",
      "\n",
      "indeces: 8 8 9\n",
      "target: 12\n",
      "increase low index\n",
      "\n",
      "\n"
     ]
    },
    {
     "data": {
      "text/plain": [
       "(False, 9)"
      ]
     },
     "execution_count": 87,
     "metadata": {},
     "output_type": "execute_result"
    }
   ],
   "source": [
    "bsearch(X=nums,t=12)"
   ]
  }
 ],
 "metadata": {
  "kernelspec": {
   "display_name": "Python 3 (ipykernel)",
   "language": "python",
   "name": "python3"
  },
  "language_info": {
   "codemirror_mode": {
    "name": "ipython",
    "version": 3
   },
   "file_extension": ".py",
   "mimetype": "text/x-python",
   "name": "python",
   "nbconvert_exporter": "python",
   "pygments_lexer": "ipython3",
   "version": "3.9.13"
  }
 },
 "nbformat": 4,
 "nbformat_minor": 5
}
