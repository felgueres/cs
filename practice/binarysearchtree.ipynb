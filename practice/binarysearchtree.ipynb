{
 "cells": [
  {
   "cell_type": "markdown",
   "id": "1056fdb0",
   "metadata": {},
   "source": [
    "### Binary Search Tree"
   ]
  },
  {
   "cell_type": "markdown",
   "id": "a1ee4c7e",
   "metadata": {},
   "source": [
    "Basic properties of BST\n",
    "- Linked data structure\n",
    "- Each Node is an object with attributes: val, left, right and p (parent)\n",
    "- For Node x, keys in left subtree are at <= x.val\n",
    "- For Node x, keys in right subtree are at >= x.val\n",
    "- Root Node is only with parent = NIL"
   ]
  },
  {
   "cell_type": "code",
   "execution_count": 1,
   "id": "f977c605",
   "metadata": {},
   "outputs": [],
   "source": [
    "class Node:\n",
    "    def __init__(self,val,left=None,right=None,parent=None):\n",
    "        self.val = val\n",
    "        self.left = left\n",
    "        self.right = right\n",
    "        self.parent = parent\n",
    "        \n",
    "    def __repr__(self):\n",
    "        return(f'(Val: {self.val} Left: {self.left} Right: {self.right})')\n",
    "    \n",
    "    def inorder_tree_walk(self):\n",
    "        def itw_helper(node):\n",
    "            if node is not None:\n",
    "                itw_helper(node.left)\n",
    "                print(node.val)\n",
    "                itw_helper(node.right)\n",
    "        itw_helper(self)"
   ]
  },
  {
   "cell_type": "markdown",
   "id": "975b59c4",
   "metadata": {},
   "source": [
    "From the structure of the BST, a property emerges\n",
    "- You can print all the keys in sorted order with two simple recursions, it is called inorder tree walk (inorder means that it prints, well, in-order, **low - root - high**). \n",
    "\n",
    "Note: \n",
    "- Preorder means printing root **before** either low or high subtrue\n",
    "- Post order means printing root **after** the values in its subtrees."
   ]
  },
  {
   "cell_type": "markdown",
   "id": "70e40d18",
   "metadata": {},
   "source": [
    "---"
   ]
  },
  {
   "cell_type": "code",
   "execution_count": 80,
   "id": "520372fc",
   "metadata": {},
   "outputs": [],
   "source": [
    "root = [6,2,8]"
   ]
  },
  {
   "cell_type": "code",
   "execution_count": 114,
   "id": "e6561a55",
   "metadata": {},
   "outputs": [],
   "source": [
    "# Implementing an inorder-tree-walk\n",
    "p = Node(val=6, left=Node(2), right=Node(8))"
   ]
  },
  {
   "cell_type": "code",
   "execution_count": 115,
   "id": "4292fc6f",
   "metadata": {},
   "outputs": [
    {
     "name": "stdout",
     "output_type": "stream",
     "text": [
      "2\n",
      "6\n",
      "8\n"
     ]
    }
   ],
   "source": [
    "p.inorder_tree_walk()"
   ]
  },
  {
   "cell_type": "markdown",
   "id": "76628eef",
   "metadata": {},
   "source": [
    "```py \n",
    "# Textbook algorithm\n",
    "def inorder(x):\n",
    "    if x not None:\n",
    "        inorder(x.left)\n",
    "        print(x.val)\n",
    "        inorder(x.right)\n",
    "```"
   ]
  },
  {
   "cell_type": "markdown",
   "id": "585fb907",
   "metadata": {},
   "source": [
    "```py\n",
    "\n",
    "# What happens with inorder(p)?\n",
    "\n",
    "# step 1:\n",
    "    if p not none:\n",
    "        inorder(p.left)\n",
    "        ...\n",
    "        \n",
    "# step 2:\n",
    "    if p.left not none:\n",
    "        inorder(p.left which is None)        \n",
    "        \n",
    "# step 3:\n",
    "    if None not none: False\n",
    "    \n",
    "# Continue on step 2, we have traversed the left tree.\n",
    "    if p.left not none:\n",
    "        inorder(p.left) : we know it is None so nothing happens\n",
    "        ...(resuming)\n",
    "        print(p.left.val) : first value of 2\n",
    "        inorder(p.right) : evaluates to no so nothing happens\n",
    "        \n",
    "# At this point we have all the original p.left, now to step 1:\n",
    "    if p not none:\n",
    "        inorder(p.left) : we print 2 as a result of this recursion\n",
    "        print(p.val) : we print 6 which is the root\n",
    "        inorder(p.right)\n",
    "# Step 4:\n",
    "    if p.right not none: True\n",
    "        inorder(p.left) : Nothing happens\n",
    "        print(p.right.val) : we print 8 \n",
    "        inorder(p.right): Nothing happens\n",
    "\n",
    "```\n"
   ]
  },
  {
   "cell_type": "markdown",
   "id": "34336603",
   "metadata": {},
   "source": [
    "---"
   ]
  },
  {
   "cell_type": "markdown",
   "id": "1b6b0a2d",
   "metadata": {},
   "source": [
    "Level order traversing, from left to right, level by level"
   ]
  },
  {
   "cell_type": "markdown",
   "id": "23af44f4",
   "metadata": {},
   "source": [
    "level 1:  \n",
    "-> node.val  \n",
    "level 2:  \n",
    "-> node.left.val, node.right.val  \n",
    "level 3:  \n",
    "-> node.left.left.val, node.left.right.val, node.right.left.val, node.right.right.val  \n",
    "\n",
    "This is BFS"
   ]
  },
  {
   "cell_type": "code",
   "execution_count": 3,
   "id": "ad86c6df",
   "metadata": {},
   "outputs": [],
   "source": [
    "root = [3,9,20,None,None,15,7]"
   ]
  },
  {
   "cell_type": "code",
   "execution_count": 4,
   "id": "2e6b1bd5",
   "metadata": {},
   "outputs": [],
   "source": [
    "output = [[3],[9,20],[15,7]]"
   ]
  },
  {
   "cell_type": "code",
   "execution_count": 116,
   "id": "091f7036",
   "metadata": {},
   "outputs": [],
   "source": [
    "class Node:\n",
    "    def __init__(self,val,left=None,right=None,parent=None):\n",
    "        self.val = val\n",
    "        self.left = left\n",
    "        self.right = right\n",
    "        self.predecesor = None\n",
    "        self.distance = None\n",
    "        self.color = 'white'\n",
    "        \n",
    "    def __repr__(self):\n",
    "        return(f'(Val: {self.val} Left: {self.left} Right: {self.right}, D: {self.distance})')\n",
    "    \n",
    "    def inorder_tree_walk(self):\n",
    "        def itw_helper(node):\n",
    "            if node is not None:\n",
    "                itw_helper(node.left)\n",
    "                print(node.val)\n",
    "                itw_helper(node.right)\n",
    "        itw_helper(self)"
   ]
  },
  {
   "cell_type": "markdown",
   "id": "00689bd1",
   "metadata": {},
   "source": [
    "---"
   ]
  },
  {
   "cell_type": "markdown",
   "id": "2e84a003",
   "metadata": {},
   "source": [
    "### Breadth Search First\n",
    "\n",
    "Inputs  \n",
    "s = Source vertex  \n",
    "G = (Vertices, Edges) assumes adjecency lists like node.left, node.right\n",
    "colors = black is visited and discovered, grey is discovered not visited, white is not discovered\n",
    "\n",
    "Outputs  \n",
    "Produces Breadth First tree\n",
    "\n",
    " \n",
    "```py\n",
    "# init nodes with these properties\n",
    "\n",
    "for each vertex u in B.V - {source vertex s}:\n",
    "    u.color = white\n",
    "    u.d = inf (holds the distance from the source s to vertex u)\n",
    "    u.pi = NIL (holds the predecessor, NIL means not discovered)\n",
    "\n",
    "s.color = GRAY\n",
    "s.d = 0 (distance to itself)\n",
    "s.pi = NIL\n",
    "Q = [] (init)\n",
    "ENQUEUE(Q, s) (add source vertex to queue)\n",
    "\n",
    "# The while loop maintains the invariant that the qeue consists of grey vertices (discovered vertices that are to be visited).\n",
    "\n",
    "while Q:\n",
    "    u = DEQUEUE(Q) (pop)\n",
    "    for each v in G.Adj[u]:\n",
    "        if v.color = gray\n",
    "            v.d = u.d + 1 (the distance is increased as u is the predecessor to v\n",
    "            v.pi = u\n",
    "            enqueue(Q,v) (add the newly discovered although yet to be visited node)\n",
    "        u.color = black\n",
    "```\n",
    "\n",
    "Interesting properties:\n",
    "- Dependending on the order in which you move to discover neighbors, the results of the breadth-first tree can vary, but the distances from the source don't.\n",
    "- Typical use case is to compute distance between nodes. \n",
    "- Notice that queue implements FIFO, so you append from the right but pop from the left."
   ]
  },
  {
   "cell_type": "code",
   "execution_count": 93,
   "id": "507a5b1b",
   "metadata": {},
   "outputs": [],
   "source": [
    "def bfs(root):\n",
    "    q = deque()\n",
    "    q.append(root)\n",
    "    while q:\n",
    "        u = q.popleft()\n",
    "        if u.left:\n",
    "            v = u.left\n",
    "            v.distance = u.distance + 1\n",
    "            v.predecessor = u\n",
    "            q.append(v)\n",
    "        if u.right:\n",
    "            v = u.right\n",
    "            v.distance = u.distance + 1\n",
    "            v.predecessor = u\n",
    "            q.append(v)\n",
    "    return root"
   ]
  },
  {
   "cell_type": "code",
   "execution_count": 107,
   "id": "fde78a18",
   "metadata": {},
   "outputs": [],
   "source": [
    "root = Node(3)\n",
    "root.predecessor = None\n",
    "root.distance = 0\n",
    "root.left = Node(9)\n",
    "root.right = Node(20)\n",
    "root.right.left = Node(15)\n",
    "root.right.right = Node(7)\n",
    "root.right.right.left = Node(5)"
   ]
  },
  {
   "cell_type": "code",
   "execution_count": 108,
   "id": "dcdfde11",
   "metadata": {},
   "outputs": [],
   "source": [
    "from collections import deque"
   ]
  },
  {
   "cell_type": "code",
   "execution_count": 109,
   "id": "6b5f3ffb",
   "metadata": {},
   "outputs": [],
   "source": [
    "bftree = bfs(root)"
   ]
  },
  {
   "cell_type": "code",
   "execution_count": 112,
   "id": "3e4da2fb",
   "metadata": {},
   "outputs": [],
   "source": [
    "def print_path(s,v):\n",
    "    if v == s:\n",
    "        print(s.val)\n",
    "    elif v.predecessor is None:\n",
    "        print('no path')\n",
    "    else:\n",
    "        print_path(s,v.predecessor)\n",
    "        print(v.val)"
   ]
  },
  {
   "cell_type": "code",
   "execution_count": 113,
   "id": "098e5817",
   "metadata": {},
   "outputs": [
    {
     "name": "stdout",
     "output_type": "stream",
     "text": [
      "no path\n",
      "20\n",
      "7\n",
      "5\n"
     ]
    }
   ],
   "source": [
    "print_path(root.left, root.right.right.left)"
   ]
  },
  {
   "cell_type": "code",
   "execution_count": 114,
   "id": "e52bbd26",
   "metadata": {},
   "outputs": [
    {
     "name": "stdout",
     "output_type": "stream",
     "text": [
      "3\n",
      "20\n",
      "7\n"
     ]
    }
   ],
   "source": [
    "print_path(root, root.right.right)"
   ]
  },
  {
   "cell_type": "markdown",
   "id": "743e5d40",
   "metadata": {},
   "source": [
    "### DEPTH FIRST SEARCH"
   ]
  },
  {
   "cell_type": "markdown",
   "id": "a93a3b14",
   "metadata": {},
   "source": [
    "This instantiates DFS from a random point point in the graph\n",
    "\n",
    "```python\n",
    "DFS(G):\n",
    "    for each vertex u in G.V: // init loop\n",
    "        u.color = white // sets everyone to undiscovered\n",
    "        u.pi = nil // sets the neighboards to nil\n",
    "    time = 0 \n",
    "\n",
    "    for each vertex u in G.V: // starts search\n",
    "        if u.color == white: // eg. if not discovered\n",
    "            dfs-visit(G, u) // visit \n",
    "    \n",
    "\n",
    "DFS-VISIT(G,u)\n",
    "    time = time + 1 // white vertex u has just been discovered\n",
    "    u.d = time \n",
    "    u.color = GRAY\n",
    "    for each v in G.Adj[u] // explore the edge\n",
    "        if v.color == white\n",
    "            v.pi = u\n",
    "            DFS-VISIT(G,v)\n",
    "    u.color = black // blacken u since its finished\n",
    "    time = time + 1 \n",
    "    u.f = time"
   ]
  },
  {
   "cell_type": "markdown",
   "id": "f441ae1a",
   "metadata": {},
   "source": []
  }
 ],
 "metadata": {
  "kernelspec": {
   "display_name": "Python 3.9.13 ('cs')",
   "language": "python",
   "name": "python3"
  },
  "language_info": {
   "codemirror_mode": {
    "name": "ipython",
    "version": 3
   },
   "file_extension": ".py",
   "mimetype": "text/x-python",
   "name": "python",
   "nbconvert_exporter": "python",
   "pygments_lexer": "ipython3",
   "version": "3.12.1"
  },
  "vscode": {
   "interpreter": {
    "hash": "48cb34bef7a251d3cb62cc4828923615a8e9c33c37d05e2903ae3fa3c5654551"
   }
  }
 },
 "nbformat": 4,
 "nbformat_minor": 5
}
